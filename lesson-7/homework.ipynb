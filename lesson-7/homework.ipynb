{
 "metadata": {
  "language_info": {
   "codemirror_mode": {
    "name": "ipython",
    "version": 3
   },
   "file_extension": ".py",
   "mimetype": "text/x-python",
   "name": "python",
   "nbconvert_exporter": "python",
   "pygments_lexer": "ipython3",
   "version": "3.9.5"
  },
  "orig_nbformat": 2,
  "kernelspec": {
   "name": "python3",
   "display_name": "Python 3.9.5 64-bit"
  },
  "metadata": {
   "interpreter": {
    "hash": "251e81559002ddd7b2bf032dcaac0eab8c07dc3f187a921f1aa359dc2a69befe"
   }
  },
  "interpreter": {
   "hash": "251e81559002ddd7b2bf032dcaac0eab8c07dc3f187a921f1aa359dc2a69befe"
  }
 },
 "nbformat": 4,
 "nbformat_minor": 2,
 "cells": [
  {
   "cell_type": "markdown",
   "source": [
    "<h1>Practical Tasks<h1>"
   ],
   "metadata": {}
  },
  {
   "cell_type": "markdown",
   "source": [
    "<h2>Import modules<h2>"
   ],
   "metadata": {}
  },
  {
   "cell_type": "code",
   "execution_count": 143,
   "source": [
    "import numpy as np\r\n",
    "from scipy import stats\r\n",
    "import matplotlib.pyplot as plt\r\n",
    "from sklearn.linear_model import LinearRegression\r\n",
    "from itertools import combinations\r\n",
    "from sklearn.metrics import r2_score # built-in way to find R2\r\n",
    "plt.style.use('seaborn-whitegrid')"
   ],
   "outputs": [],
   "metadata": {}
  },
  {
   "cell_type": "markdown",
   "source": [
    "<h2>Common functions<h2>"
   ],
   "metadata": {}
  },
  {
   "cell_type": "code",
   "execution_count": 144,
   "source": [
    "def calculate_R2(X, y):\r\n",
    "    XTX = X.T.dot(X)\r\n",
    "    XTX_inv = np.linalg.inv(XTX)\r\n",
    "    coeffs = XTX_inv.dot(X.T).dot(y) # coeffs of linear regression model\r\n",
    "    Z = np.matmul(X, coeffs)         # approximaiton of y values\r\n",
    "    upper = ((y - Z)**2).sum()\r\n",
    "    lower = ((y - y.mean())**2).sum()\r\n",
    "    R2 = 1 - upper / lower\r\n",
    "    return Z, R2\r\n",
    "\r\n",
    "def if_significant(X, R2, alpha):\r\n",
    "    n = X.shape[0]\r\n",
    "    m = X.shape[1] - 1\r\n",
    "    k1 = m\r\n",
    "    k2 = n - m - 1\r\n",
    "    f_cr = stats.f.ppf(1-alpha, k1, k2)\r\n",
    "    F = (R2 / k1) / ((1 - R2) / k2)\r\n",
    "    print(f\"F = {F:.3f}, f_cr = {f_cr:.3f}\")\r\n",
    "    msg = f\"The linear regression model fits the data at the significance level of {alpha}\" if F > f_cr else f\"The linear regression model does not fit the data at the significant level of {alpha}\"\r\n",
    "    return msg"
   ],
   "outputs": [],
   "metadata": {}
  },
  {
   "cell_type": "markdown",
   "source": [
    "<h2>Task 1<h2>"
   ],
   "metadata": {}
  },
  {
   "cell_type": "code",
   "execution_count": 145,
   "source": [
    "### input data\r\n",
    "X0 = np.array([[ 1.22401313, 2.30868478, 3.03636353, 2.69287214],\r\n",
    "               [-0.18757272, 1.30337355, 5.12093014, 3.46363202],\r\n",
    "               [-0.81094525, 1.82463398, 5.79686488, 1.86159445],\r\n",
    "               [ 0.75129018, 2.67392052, 3.65529809, 1.66746094],\r\n",
    "               [ 0.00972362, 1.97367255, 2.50594319, 1.69755173],\r\n",
    "               [-0.62972637, 0.77750764, 2.84124027, 4.54410559],\r\n",
    "               [ 2.29536229, 1.81206697, 1.95026215, 1.51874636],\r\n",
    "               [ 0.0920418 , 2.26971361, 7.47708735, 2.61081203],\r\n",
    "               [ 2.39252799, 3.17563985, 3.61420599, 5.10773362],\r\n",
    "               [ 0.54983815, 2.87988651, 1.65752765, 1.59635987]])\r\n",
    "\r\n",
    "y = np.array([ 9.26193358, 9.700363 , 8.67214805, 8.74796974, 6.18689108,\r\n",
    "              7.53312713, 7.57643777, 12.44965478, 14.29010746, 6.68361218])"
   ],
   "outputs": [],
   "metadata": {}
  },
  {
   "cell_type": "code",
   "execution_count": 146,
   "source": [
    "# useful functions\r\n",
    "def slice_source_mtx(A, idxs_pair):\r\n",
    "    \"\"\"extract two columns from source matrix and adding a column of ones from the left side\"\"\"\r\n",
    "    A_slice = A[:,[idxs_pair[0],idxs_pair[1]]]\r\n",
    "    ones = np.ones((A_slice.shape[0], 1))\r\n",
    "    X = np.hstack((ones,A_slice))\r\n",
    "    return X"
   ],
   "outputs": [],
   "metadata": {}
  },
  {
   "cell_type": "code",
   "execution_count": 147,
   "source": [
    "### \r\n",
    "### main\r\n",
    "###\r\n",
    "\r\n",
    "# built-in way to find linear regresion model coeffs\r\n",
    "# Model2 = LinearRegression().fit(X,y)\r\n",
    "# print((Model2.intercept_, Model2.coef_))\r\n",
    "\r\n",
    "alpha = 0.05 # false positive error probability\r\n",
    "\r\n",
    "# temp vars using at finding of R2 max value\r\n",
    "R2_max = 0\r\n",
    "Z_best = [0 for i in range(X0.shape[0])]\r\n",
    "best_idx_pair = [0, 1] # idxs of columns for max R2\r\n",
    "\r\n",
    "idx_pairs = list(combinations(range(0,X0.shape[1],1), 2)) # generate all unique pairs of indexes\r\n",
    "# find max R2\r\n",
    "for idx_pair in idx_pairs:\r\n",
    "    X = slice_source_mtx(X0, idx_pair) # matrix of regressors values\r\n",
    "    Z_i, R2_i = calculate_R2(X, y)\r\n",
    "    if R2_i > R2_max:\r\n",
    "        R2_max = R2_i\r\n",
    "        best_idx_pair = list(idx_pair)\r\n",
    "        Z_best = Z_i\r\n",
    "\r\n",
    "print(f\"The R2 max value: {R2_max:.2f} (user way), {r2_score(y,Z_best):.2f} (built-in way)\")\r\n",
    "print(f\"The column positions of optimal regressors: ({best_idx_pair[0]},{best_idx_pair[1]})\")\r\n",
    "print(if_significant(slice_source_mtx(X0, best_idx_pair), R2_max, alpha))"
   ],
   "outputs": [
    {
     "output_type": "stream",
     "name": "stdout",
     "text": [
      "The R2 max value: 0.76 (user way), 0.76 (built-in way)\n",
      "The column positions of optimal regressors: (0,2)\n",
      "F = 11.294, f_cr = 4.737\n",
      "The linear regression model fits the data at the significance level of 0.05\n"
     ]
    }
   ],
   "metadata": {}
  },
  {
   "cell_type": "markdown",
   "source": [
    "<h2>Task 2<h2>"
   ],
   "metadata": {}
  },
  {
   "cell_type": "code",
   "execution_count": 148,
   "source": [
    "# source data\r\n",
    "salary = np.array([35, 45, 190, 200, 40, 70, 54, 150, 120, 110])\r\n",
    "scoring = np.array([401, 574, 874, 919, 459, 739, 653, 902, 746, 832])\r\n"
   ],
   "outputs": [],
   "metadata": {}
  },
  {
   "cell_type": "code",
   "execution_count": 149,
   "source": [
    "# task 1\r\n",
    "# find coeffs of linear regression model (using formulas for pair regression)\r\n",
    "salary_mean = salary.mean()\r\n",
    "scoring_mean = scoring.mean()\r\n",
    "b1 = (np.mean(salary * scoring) - salary_mean * scoring_mean) / (np.mean(salary ** 2) - np.mean(salary) ** 2) # slope\r\n",
    "b0 = scoring_mean - b1 * salary_mean # intercept\r\n",
    "\r\n",
    "# find coeffs of linear regression model (OLS method)\r\n",
    "ones = np.ones((salary.shape[0], 1))\r\n",
    "X = np.hstack((ones,salary[:, np.newaxis]))\r\n",
    "XTX = X.T.dot(X)\r\n",
    "XTX_inv = np.linalg.inv(XTX)\r\n",
    "coeffs = XTX_inv.dot(X.T).dot(scoring)\r\n",
    "\r\n",
    "print(f\"b0: {b0:.2f} (user way), {coeffs[0]:.2f} (built-in way);\\nb1: {b1:.2f} (user way), {coeffs[1]:.2f} (built-in way);\")"
   ],
   "outputs": [
    {
     "output_type": "stream",
     "name": "stdout",
     "text": [
      "b0: 444.18 (user way), 444.18 (built-in way);\n",
      "b1: 2.62 (user way), 2.62 (built-in way);\n"
     ]
    }
   ],
   "metadata": {}
  },
  {
   "cell_type": "code",
   "execution_count": 150,
   "source": [
    "# task 2\r\n",
    "plt.scatter(salary, scoring)\r\n",
    "plt.plot(salary, b0 + b1*salary, color='red')\r\n",
    "plt.xlabel('Salary')\r\n",
    "plt.ylabel('Scoring')\r\n",
    "plt.ylim(350, 1000)\r\n",
    "plt.xlim(25, 200)"
   ],
   "outputs": [
    {
     "output_type": "execute_result",
     "data": {
      "text/plain": [
       "(25.0, 200.0)"
      ]
     },
     "metadata": {},
     "execution_count": 150
    },
    {
     "output_type": "display_data",
     "data": {
      "text/plain": [
       "<Figure size 576x396 with 1 Axes>"
      ],
      "image/svg+xml": "<?xml version=\"1.0\" encoding=\"utf-8\" standalone=\"no\"?>\r\n<!DOCTYPE svg PUBLIC \"-//W3C//DTD SVG 1.1//EN\"\r\n  \"http://www.w3.org/Graphics/SVG/1.1/DTD/svg11.dtd\">\r\n<svg height=\"347.427031pt\" version=\"1.1\" viewBox=\"0 0 512.707969 347.427031\" width=\"512.707969pt\" xmlns=\"http://www.w3.org/2000/svg\" xmlns:xlink=\"http://www.w3.org/1999/xlink\">\r\n <metadata>\r\n  <rdf:RDF xmlns:cc=\"http://creativecommons.org/ns#\" xmlns:dc=\"http://purl.org/dc/elements/1.1/\" xmlns:rdf=\"http://www.w3.org/1999/02/22-rdf-syntax-ns#\">\r\n   <cc:Work>\r\n    <dc:type rdf:resource=\"http://purl.org/dc/dcmitype/StillImage\"/>\r\n    <dc:date>2021-08-31T22:40:21.828946</dc:date>\r\n    <dc:format>image/svg+xml</dc:format>\r\n    <dc:creator>\r\n     <cc:Agent>\r\n      <dc:title>Matplotlib v3.4.2, https://matplotlib.org/</dc:title>\r\n     </cc:Agent>\r\n    </dc:creator>\r\n   </cc:Work>\r\n  </rdf:RDF>\r\n </metadata>\r\n <defs>\r\n  <style type=\"text/css\">*{stroke-linecap:butt;stroke-linejoin:round;}</style>\r\n </defs>\r\n <g id=\"figure_1\">\r\n  <g id=\"patch_1\">\r\n   <path d=\"M 0 347.427031 \r\nL 512.707969 347.427031 \r\nL 512.707969 0 \r\nL 0 0 \r\nz\r\n\" style=\"fill:#ffffff;\"/>\r\n  </g>\r\n  <g id=\"axes_1\">\r\n   <g id=\"patch_2\">\r\n    <path d=\"M 50.766563 309.758906 \r\nL 497.166562 309.758906 \r\nL 497.166562 10.778906 \r\nL 50.766563 10.778906 \r\nz\r\n\" style=\"fill:#ffffff;\"/>\r\n   </g>\r\n   <g id=\"matplotlib.axis_1\">\r\n    <g id=\"xtick_1\">\r\n     <g id=\"line2d_1\">\r\n      <path clip-path=\"url(#p7c1298a4ed)\" d=\"M 89.02942 309.758906 \r\nL 89.02942 10.778906 \r\n\" style=\"fill:none;stroke:#cccccc;stroke-linecap:round;\"/>\r\n     </g>\r\n     <g id=\"line2d_2\"/>\r\n     <g id=\"text_1\">\r\n      <!-- 40 -->\r\n      <g style=\"fill:#262626;\" transform=\"translate(83.468482 323.916719)scale(0.1 -0.1)\">\r\n       <defs>\r\n        <path d=\"M 2069 0 \r\nL 2069 1097 \r\nL 81 1097 \r\nL 81 1613 \r\nL 2172 4581 \r\nL 2631 4581 \r\nL 2631 1613 \r\nL 3250 1613 \r\nL 3250 1097 \r\nL 2631 1097 \r\nL 2631 0 \r\nL 2069 0 \r\nz\r\nM 2069 1613 \r\nL 2069 3678 \r\nL 634 1613 \r\nL 2069 1613 \r\nz\r\n\" id=\"ArialMT-34\" transform=\"scale(0.015625)\"/>\r\n        <path d=\"M 266 2259 \r\nQ 266 3072 433 3567 \r\nQ 600 4063 929 4331 \r\nQ 1259 4600 1759 4600 \r\nQ 2128 4600 2406 4451 \r\nQ 2684 4303 2865 4023 \r\nQ 3047 3744 3150 3342 \r\nQ 3253 2941 3253 2259 \r\nQ 3253 1453 3087 958 \r\nQ 2922 463 2592 192 \r\nQ 2263 -78 1759 -78 \r\nQ 1097 -78 719 397 \r\nQ 266 969 266 2259 \r\nz\r\nM 844 2259 \r\nQ 844 1131 1108 757 \r\nQ 1372 384 1759 384 \r\nQ 2147 384 2411 759 \r\nQ 2675 1134 2675 2259 \r\nQ 2675 3391 2411 3762 \r\nQ 2147 4134 1753 4134 \r\nQ 1366 4134 1134 3806 \r\nQ 844 3388 844 2259 \r\nz\r\n\" id=\"ArialMT-30\" transform=\"scale(0.015625)\"/>\r\n       </defs>\r\n       <use xlink:href=\"#ArialMT-34\"/>\r\n       <use x=\"55.615234\" xlink:href=\"#ArialMT-30\"/>\r\n      </g>\r\n     </g>\r\n    </g>\r\n    <g id=\"xtick_2\">\r\n     <g id=\"line2d_3\">\r\n      <path clip-path=\"url(#p7c1298a4ed)\" d=\"M 140.046563 309.758906 \r\nL 140.046563 10.778906 \r\n\" style=\"fill:none;stroke:#cccccc;stroke-linecap:round;\"/>\r\n     </g>\r\n     <g id=\"line2d_4\"/>\r\n     <g id=\"text_2\">\r\n      <!-- 60 -->\r\n      <g style=\"fill:#262626;\" transform=\"translate(134.485625 323.916719)scale(0.1 -0.1)\">\r\n       <defs>\r\n        <path d=\"M 3184 3459 \r\nL 2625 3416 \r\nQ 2550 3747 2413 3897 \r\nQ 2184 4138 1850 4138 \r\nQ 1581 4138 1378 3988 \r\nQ 1113 3794 959 3422 \r\nQ 806 3050 800 2363 \r\nQ 1003 2672 1297 2822 \r\nQ 1591 2972 1913 2972 \r\nQ 2475 2972 2870 2558 \r\nQ 3266 2144 3266 1488 \r\nQ 3266 1056 3080 686 \r\nQ 2894 316 2569 119 \r\nQ 2244 -78 1831 -78 \r\nQ 1128 -78 684 439 \r\nQ 241 956 241 2144 \r\nQ 241 3472 731 4075 \r\nQ 1159 4600 1884 4600 \r\nQ 2425 4600 2770 4297 \r\nQ 3116 3994 3184 3459 \r\nz\r\nM 888 1484 \r\nQ 888 1194 1011 928 \r\nQ 1134 663 1356 523 \r\nQ 1578 384 1822 384 \r\nQ 2178 384 2434 671 \r\nQ 2691 959 2691 1453 \r\nQ 2691 1928 2437 2201 \r\nQ 2184 2475 1800 2475 \r\nQ 1419 2475 1153 2201 \r\nQ 888 1928 888 1484 \r\nz\r\n\" id=\"ArialMT-36\" transform=\"scale(0.015625)\"/>\r\n       </defs>\r\n       <use xlink:href=\"#ArialMT-36\"/>\r\n       <use x=\"55.615234\" xlink:href=\"#ArialMT-30\"/>\r\n      </g>\r\n     </g>\r\n    </g>\r\n    <g id=\"xtick_3\">\r\n     <g id=\"line2d_5\">\r\n      <path clip-path=\"url(#p7c1298a4ed)\" d=\"M 191.063705 309.758906 \r\nL 191.063705 10.778906 \r\n\" style=\"fill:none;stroke:#cccccc;stroke-linecap:round;\"/>\r\n     </g>\r\n     <g id=\"line2d_6\"/>\r\n     <g id=\"text_3\">\r\n      <!-- 80 -->\r\n      <g style=\"fill:#262626;\" transform=\"translate(185.502768 323.916719)scale(0.1 -0.1)\">\r\n       <defs>\r\n        <path d=\"M 1131 2484 \r\nQ 781 2613 612 2850 \r\nQ 444 3088 444 3419 \r\nQ 444 3919 803 4259 \r\nQ 1163 4600 1759 4600 \r\nQ 2359 4600 2725 4251 \r\nQ 3091 3903 3091 3403 \r\nQ 3091 3084 2923 2848 \r\nQ 2756 2613 2416 2484 \r\nQ 2838 2347 3058 2040 \r\nQ 3278 1734 3278 1309 \r\nQ 3278 722 2862 322 \r\nQ 2447 -78 1769 -78 \r\nQ 1091 -78 675 323 \r\nQ 259 725 259 1325 \r\nQ 259 1772 486 2073 \r\nQ 713 2375 1131 2484 \r\nz\r\nM 1019 3438 \r\nQ 1019 3113 1228 2906 \r\nQ 1438 2700 1772 2700 \r\nQ 2097 2700 2305 2904 \r\nQ 2513 3109 2513 3406 \r\nQ 2513 3716 2298 3927 \r\nQ 2084 4138 1766 4138 \r\nQ 1444 4138 1231 3931 \r\nQ 1019 3725 1019 3438 \r\nz\r\nM 838 1322 \r\nQ 838 1081 952 856 \r\nQ 1066 631 1291 507 \r\nQ 1516 384 1775 384 \r\nQ 2178 384 2440 643 \r\nQ 2703 903 2703 1303 \r\nQ 2703 1709 2433 1975 \r\nQ 2163 2241 1756 2241 \r\nQ 1359 2241 1098 1978 \r\nQ 838 1716 838 1322 \r\nz\r\n\" id=\"ArialMT-38\" transform=\"scale(0.015625)\"/>\r\n       </defs>\r\n       <use xlink:href=\"#ArialMT-38\"/>\r\n       <use x=\"55.615234\" xlink:href=\"#ArialMT-30\"/>\r\n      </g>\r\n     </g>\r\n    </g>\r\n    <g id=\"xtick_4\">\r\n     <g id=\"line2d_7\">\r\n      <path clip-path=\"url(#p7c1298a4ed)\" d=\"M 242.080848 309.758906 \r\nL 242.080848 10.778906 \r\n\" style=\"fill:none;stroke:#cccccc;stroke-linecap:round;\"/>\r\n     </g>\r\n     <g id=\"line2d_8\"/>\r\n     <g id=\"text_4\">\r\n      <!-- 100 -->\r\n      <g style=\"fill:#262626;\" transform=\"translate(233.739442 323.916719)scale(0.1 -0.1)\">\r\n       <defs>\r\n        <path d=\"M 2384 0 \r\nL 1822 0 \r\nL 1822 3584 \r\nQ 1619 3391 1289 3197 \r\nQ 959 3003 697 2906 \r\nL 697 3450 \r\nQ 1169 3672 1522 3987 \r\nQ 1875 4303 2022 4600 \r\nL 2384 4600 \r\nL 2384 0 \r\nz\r\n\" id=\"ArialMT-31\" transform=\"scale(0.015625)\"/>\r\n       </defs>\r\n       <use xlink:href=\"#ArialMT-31\"/>\r\n       <use x=\"55.615234\" xlink:href=\"#ArialMT-30\"/>\r\n       <use x=\"111.230469\" xlink:href=\"#ArialMT-30\"/>\r\n      </g>\r\n     </g>\r\n    </g>\r\n    <g id=\"xtick_5\">\r\n     <g id=\"line2d_9\">\r\n      <path clip-path=\"url(#p7c1298a4ed)\" d=\"M 293.097991 309.758906 \r\nL 293.097991 10.778906 \r\n\" style=\"fill:none;stroke:#cccccc;stroke-linecap:round;\"/>\r\n     </g>\r\n     <g id=\"line2d_10\"/>\r\n     <g id=\"text_5\">\r\n      <!-- 120 -->\r\n      <g style=\"fill:#262626;\" transform=\"translate(284.756585 323.916719)scale(0.1 -0.1)\">\r\n       <defs>\r\n        <path d=\"M 3222 541 \r\nL 3222 0 \r\nL 194 0 \r\nQ 188 203 259 391 \r\nQ 375 700 629 1000 \r\nQ 884 1300 1366 1694 \r\nQ 2113 2306 2375 2664 \r\nQ 2638 3022 2638 3341 \r\nQ 2638 3675 2398 3904 \r\nQ 2159 4134 1775 4134 \r\nQ 1369 4134 1125 3890 \r\nQ 881 3647 878 3216 \r\nL 300 3275 \r\nQ 359 3922 746 4261 \r\nQ 1134 4600 1788 4600 \r\nQ 2447 4600 2831 4234 \r\nQ 3216 3869 3216 3328 \r\nQ 3216 3053 3103 2787 \r\nQ 2991 2522 2730 2228 \r\nQ 2469 1934 1863 1422 \r\nQ 1356 997 1212 845 \r\nQ 1069 694 975 541 \r\nL 3222 541 \r\nz\r\n\" id=\"ArialMT-32\" transform=\"scale(0.015625)\"/>\r\n       </defs>\r\n       <use xlink:href=\"#ArialMT-31\"/>\r\n       <use x=\"55.615234\" xlink:href=\"#ArialMT-32\"/>\r\n       <use x=\"111.230469\" xlink:href=\"#ArialMT-30\"/>\r\n      </g>\r\n     </g>\r\n    </g>\r\n    <g id=\"xtick_6\">\r\n     <g id=\"line2d_11\">\r\n      <path clip-path=\"url(#p7c1298a4ed)\" d=\"M 344.115134 309.758906 \r\nL 344.115134 10.778906 \r\n\" style=\"fill:none;stroke:#cccccc;stroke-linecap:round;\"/>\r\n     </g>\r\n     <g id=\"line2d_12\"/>\r\n     <g id=\"text_6\">\r\n      <!-- 140 -->\r\n      <g style=\"fill:#262626;\" transform=\"translate(335.773728 323.916719)scale(0.1 -0.1)\">\r\n       <use xlink:href=\"#ArialMT-31\"/>\r\n       <use x=\"55.615234\" xlink:href=\"#ArialMT-34\"/>\r\n       <use x=\"111.230469\" xlink:href=\"#ArialMT-30\"/>\r\n      </g>\r\n     </g>\r\n    </g>\r\n    <g id=\"xtick_7\">\r\n     <g id=\"line2d_13\">\r\n      <path clip-path=\"url(#p7c1298a4ed)\" d=\"M 395.132277 309.758906 \r\nL 395.132277 10.778906 \r\n\" style=\"fill:none;stroke:#cccccc;stroke-linecap:round;\"/>\r\n     </g>\r\n     <g id=\"line2d_14\"/>\r\n     <g id=\"text_7\">\r\n      <!-- 160 -->\r\n      <g style=\"fill:#262626;\" transform=\"translate(386.790871 323.916719)scale(0.1 -0.1)\">\r\n       <use xlink:href=\"#ArialMT-31\"/>\r\n       <use x=\"55.615234\" xlink:href=\"#ArialMT-36\"/>\r\n       <use x=\"111.230469\" xlink:href=\"#ArialMT-30\"/>\r\n      </g>\r\n     </g>\r\n    </g>\r\n    <g id=\"xtick_8\">\r\n     <g id=\"line2d_15\">\r\n      <path clip-path=\"url(#p7c1298a4ed)\" d=\"M 446.14942 309.758906 \r\nL 446.14942 10.778906 \r\n\" style=\"fill:none;stroke:#cccccc;stroke-linecap:round;\"/>\r\n     </g>\r\n     <g id=\"line2d_16\"/>\r\n     <g id=\"text_8\">\r\n      <!-- 180 -->\r\n      <g style=\"fill:#262626;\" transform=\"translate(437.808013 323.916719)scale(0.1 -0.1)\">\r\n       <use xlink:href=\"#ArialMT-31\"/>\r\n       <use x=\"55.615234\" xlink:href=\"#ArialMT-38\"/>\r\n       <use x=\"111.230469\" xlink:href=\"#ArialMT-30\"/>\r\n      </g>\r\n     </g>\r\n    </g>\r\n    <g id=\"xtick_9\">\r\n     <g id=\"line2d_17\">\r\n      <path clip-path=\"url(#p7c1298a4ed)\" d=\"M 497.166562 309.758906 \r\nL 497.166562 10.778906 \r\n\" style=\"fill:none;stroke:#cccccc;stroke-linecap:round;\"/>\r\n     </g>\r\n     <g id=\"line2d_18\"/>\r\n     <g id=\"text_9\">\r\n      <!-- 200 -->\r\n      <g style=\"fill:#262626;\" transform=\"translate(488.825156 323.916719)scale(0.1 -0.1)\">\r\n       <use xlink:href=\"#ArialMT-32\"/>\r\n       <use x=\"55.615234\" xlink:href=\"#ArialMT-30\"/>\r\n       <use x=\"111.230469\" xlink:href=\"#ArialMT-30\"/>\r\n      </g>\r\n     </g>\r\n    </g>\r\n    <g id=\"text_10\">\r\n     <!-- Salary -->\r\n     <g style=\"fill:#262626;\" transform=\"translate(258.3775 337.911875)scale(0.11 -0.11)\">\r\n      <defs>\r\n       <path d=\"M 288 1472 \r\nL 859 1522 \r\nQ 900 1178 1048 958 \r\nQ 1197 738 1509 602 \r\nQ 1822 466 2213 466 \r\nQ 2559 466 2825 569 \r\nQ 3091 672 3220 851 \r\nQ 3350 1031 3350 1244 \r\nQ 3350 1459 3225 1620 \r\nQ 3100 1781 2813 1891 \r\nQ 2628 1963 1997 2114 \r\nQ 1366 2266 1113 2400 \r\nQ 784 2572 623 2826 \r\nQ 463 3081 463 3397 \r\nQ 463 3744 659 4045 \r\nQ 856 4347 1234 4503 \r\nQ 1613 4659 2075 4659 \r\nQ 2584 4659 2973 4495 \r\nQ 3363 4331 3572 4012 \r\nQ 3781 3694 3797 3291 \r\nL 3216 3247 \r\nQ 3169 3681 2898 3903 \r\nQ 2628 4125 2100 4125 \r\nQ 1550 4125 1298 3923 \r\nQ 1047 3722 1047 3438 \r\nQ 1047 3191 1225 3031 \r\nQ 1400 2872 2139 2705 \r\nQ 2878 2538 3153 2413 \r\nQ 3553 2228 3743 1945 \r\nQ 3934 1663 3934 1294 \r\nQ 3934 928 3725 604 \r\nQ 3516 281 3123 101 \r\nQ 2731 -78 2241 -78 \r\nQ 1619 -78 1198 103 \r\nQ 778 284 539 648 \r\nQ 300 1013 288 1472 \r\nz\r\n\" id=\"ArialMT-53\" transform=\"scale(0.015625)\"/>\r\n       <path d=\"M 2588 409 \r\nQ 2275 144 1986 34 \r\nQ 1697 -75 1366 -75 \r\nQ 819 -75 525 192 \r\nQ 231 459 231 875 \r\nQ 231 1119 342 1320 \r\nQ 453 1522 633 1644 \r\nQ 813 1766 1038 1828 \r\nQ 1203 1872 1538 1913 \r\nQ 2219 1994 2541 2106 \r\nQ 2544 2222 2544 2253 \r\nQ 2544 2597 2384 2738 \r\nQ 2169 2928 1744 2928 \r\nQ 1347 2928 1158 2789 \r\nQ 969 2650 878 2297 \r\nL 328 2372 \r\nQ 403 2725 575 2942 \r\nQ 747 3159 1072 3276 \r\nQ 1397 3394 1825 3394 \r\nQ 2250 3394 2515 3294 \r\nQ 2781 3194 2906 3042 \r\nQ 3031 2891 3081 2659 \r\nQ 3109 2516 3109 2141 \r\nL 3109 1391 \r\nQ 3109 606 3145 398 \r\nQ 3181 191 3288 0 \r\nL 2700 0 \r\nQ 2613 175 2588 409 \r\nz\r\nM 2541 1666 \r\nQ 2234 1541 1622 1453 \r\nQ 1275 1403 1131 1340 \r\nQ 988 1278 909 1158 \r\nQ 831 1038 831 891 \r\nQ 831 666 1001 516 \r\nQ 1172 366 1500 366 \r\nQ 1825 366 2078 508 \r\nQ 2331 650 2450 897 \r\nQ 2541 1088 2541 1459 \r\nL 2541 1666 \r\nz\r\n\" id=\"ArialMT-61\" transform=\"scale(0.015625)\"/>\r\n       <path d=\"M 409 0 \r\nL 409 4581 \r\nL 972 4581 \r\nL 972 0 \r\nL 409 0 \r\nz\r\n\" id=\"ArialMT-6c\" transform=\"scale(0.015625)\"/>\r\n       <path d=\"M 416 0 \r\nL 416 3319 \r\nL 922 3319 \r\nL 922 2816 \r\nQ 1116 3169 1280 3281 \r\nQ 1444 3394 1641 3394 \r\nQ 1925 3394 2219 3213 \r\nL 2025 2691 \r\nQ 1819 2813 1613 2813 \r\nQ 1428 2813 1281 2702 \r\nQ 1134 2591 1072 2394 \r\nQ 978 2094 978 1738 \r\nL 978 0 \r\nL 416 0 \r\nz\r\n\" id=\"ArialMT-72\" transform=\"scale(0.015625)\"/>\r\n       <path d=\"M 397 -1278 \r\nL 334 -750 \r\nQ 519 -800 656 -800 \r\nQ 844 -800 956 -737 \r\nQ 1069 -675 1141 -563 \r\nQ 1194 -478 1313 -144 \r\nQ 1328 -97 1363 -6 \r\nL 103 3319 \r\nL 709 3319 \r\nL 1400 1397 \r\nQ 1534 1031 1641 628 \r\nQ 1738 1016 1872 1384 \r\nL 2581 3319 \r\nL 3144 3319 \r\nL 1881 -56 \r\nQ 1678 -603 1566 -809 \r\nQ 1416 -1088 1222 -1217 \r\nQ 1028 -1347 759 -1347 \r\nQ 597 -1347 397 -1278 \r\nz\r\n\" id=\"ArialMT-79\" transform=\"scale(0.015625)\"/>\r\n      </defs>\r\n      <use xlink:href=\"#ArialMT-53\"/>\r\n      <use x=\"66.699219\" xlink:href=\"#ArialMT-61\"/>\r\n      <use x=\"122.314453\" xlink:href=\"#ArialMT-6c\"/>\r\n      <use x=\"144.53125\" xlink:href=\"#ArialMT-61\"/>\r\n      <use x=\"200.146484\" xlink:href=\"#ArialMT-72\"/>\r\n      <use x=\"233.447266\" xlink:href=\"#ArialMT-79\"/>\r\n     </g>\r\n    </g>\r\n   </g>\r\n   <g id=\"matplotlib.axis_2\">\r\n    <g id=\"ytick_1\">\r\n     <g id=\"line2d_19\">\r\n      <path clip-path=\"url(#p7c1298a4ed)\" d=\"M 50.766563 286.760445 \r\nL 497.166562 286.760445 \r\n\" style=\"fill:none;stroke:#cccccc;stroke-linecap:round;\"/>\r\n     </g>\r\n     <g id=\"line2d_20\"/>\r\n     <g id=\"text_11\">\r\n      <!-- 400 -->\r\n      <g style=\"fill:#262626;\" transform=\"translate(27.08375 290.339351)scale(0.1 -0.1)\">\r\n       <use xlink:href=\"#ArialMT-34\"/>\r\n       <use x=\"55.615234\" xlink:href=\"#ArialMT-30\"/>\r\n       <use x=\"111.230469\" xlink:href=\"#ArialMT-30\"/>\r\n      </g>\r\n     </g>\r\n    </g>\r\n    <g id=\"ytick_2\">\r\n     <g id=\"line2d_21\">\r\n      <path clip-path=\"url(#p7c1298a4ed)\" d=\"M 50.766563 240.763522 \r\nL 497.166562 240.763522 \r\n\" style=\"fill:none;stroke:#cccccc;stroke-linecap:round;\"/>\r\n     </g>\r\n     <g id=\"line2d_22\"/>\r\n     <g id=\"text_12\">\r\n      <!-- 500 -->\r\n      <g style=\"fill:#262626;\" transform=\"translate(27.08375 244.342428)scale(0.1 -0.1)\">\r\n       <defs>\r\n        <path d=\"M 266 1200 \r\nL 856 1250 \r\nQ 922 819 1161 601 \r\nQ 1400 384 1738 384 \r\nQ 2144 384 2425 690 \r\nQ 2706 997 2706 1503 \r\nQ 2706 1984 2436 2262 \r\nQ 2166 2541 1728 2541 \r\nQ 1456 2541 1237 2417 \r\nQ 1019 2294 894 2097 \r\nL 366 2166 \r\nL 809 4519 \r\nL 3088 4519 \r\nL 3088 3981 \r\nL 1259 3981 \r\nL 1013 2750 \r\nQ 1425 3038 1878 3038 \r\nQ 2478 3038 2890 2622 \r\nQ 3303 2206 3303 1553 \r\nQ 3303 931 2941 478 \r\nQ 2500 -78 1738 -78 \r\nQ 1113 -78 717 272 \r\nQ 322 622 266 1200 \r\nz\r\n\" id=\"ArialMT-35\" transform=\"scale(0.015625)\"/>\r\n       </defs>\r\n       <use xlink:href=\"#ArialMT-35\"/>\r\n       <use x=\"55.615234\" xlink:href=\"#ArialMT-30\"/>\r\n       <use x=\"111.230469\" xlink:href=\"#ArialMT-30\"/>\r\n      </g>\r\n     </g>\r\n    </g>\r\n    <g id=\"ytick_3\">\r\n     <g id=\"line2d_23\">\r\n      <path clip-path=\"url(#p7c1298a4ed)\" d=\"M 50.766563 194.766599 \r\nL 497.166562 194.766599 \r\n\" style=\"fill:none;stroke:#cccccc;stroke-linecap:round;\"/>\r\n     </g>\r\n     <g id=\"line2d_24\"/>\r\n     <g id=\"text_13\">\r\n      <!-- 600 -->\r\n      <g style=\"fill:#262626;\" transform=\"translate(27.08375 198.345505)scale(0.1 -0.1)\">\r\n       <use xlink:href=\"#ArialMT-36\"/>\r\n       <use x=\"55.615234\" xlink:href=\"#ArialMT-30\"/>\r\n       <use x=\"111.230469\" xlink:href=\"#ArialMT-30\"/>\r\n      </g>\r\n     </g>\r\n    </g>\r\n    <g id=\"ytick_4\">\r\n     <g id=\"line2d_25\">\r\n      <path clip-path=\"url(#p7c1298a4ed)\" d=\"M 50.766563 148.769675 \r\nL 497.166562 148.769675 \r\n\" style=\"fill:none;stroke:#cccccc;stroke-linecap:round;\"/>\r\n     </g>\r\n     <g id=\"line2d_26\"/>\r\n     <g id=\"text_14\">\r\n      <!-- 700 -->\r\n      <g style=\"fill:#262626;\" transform=\"translate(27.08375 152.348582)scale(0.1 -0.1)\">\r\n       <defs>\r\n        <path d=\"M 303 3981 \r\nL 303 4522 \r\nL 3269 4522 \r\nL 3269 4084 \r\nQ 2831 3619 2401 2847 \r\nQ 1972 2075 1738 1259 \r\nQ 1569 684 1522 0 \r\nL 944 0 \r\nQ 953 541 1156 1306 \r\nQ 1359 2072 1739 2783 \r\nQ 2119 3494 2547 3981 \r\nL 303 3981 \r\nz\r\n\" id=\"ArialMT-37\" transform=\"scale(0.015625)\"/>\r\n       </defs>\r\n       <use xlink:href=\"#ArialMT-37\"/>\r\n       <use x=\"55.615234\" xlink:href=\"#ArialMT-30\"/>\r\n       <use x=\"111.230469\" xlink:href=\"#ArialMT-30\"/>\r\n      </g>\r\n     </g>\r\n    </g>\r\n    <g id=\"ytick_5\">\r\n     <g id=\"line2d_27\">\r\n      <path clip-path=\"url(#p7c1298a4ed)\" d=\"M 50.766563 102.772752 \r\nL 497.166562 102.772752 \r\n\" style=\"fill:none;stroke:#cccccc;stroke-linecap:round;\"/>\r\n     </g>\r\n     <g id=\"line2d_28\"/>\r\n     <g id=\"text_15\">\r\n      <!-- 800 -->\r\n      <g style=\"fill:#262626;\" transform=\"translate(27.08375 106.351659)scale(0.1 -0.1)\">\r\n       <use xlink:href=\"#ArialMT-38\"/>\r\n       <use x=\"55.615234\" xlink:href=\"#ArialMT-30\"/>\r\n       <use x=\"111.230469\" xlink:href=\"#ArialMT-30\"/>\r\n      </g>\r\n     </g>\r\n    </g>\r\n    <g id=\"ytick_6\">\r\n     <g id=\"line2d_29\">\r\n      <path clip-path=\"url(#p7c1298a4ed)\" d=\"M 50.766563 56.775829 \r\nL 497.166562 56.775829 \r\n\" style=\"fill:none;stroke:#cccccc;stroke-linecap:round;\"/>\r\n     </g>\r\n     <g id=\"line2d_30\"/>\r\n     <g id=\"text_16\">\r\n      <!-- 900 -->\r\n      <g style=\"fill:#262626;\" transform=\"translate(27.08375 60.354736)scale(0.1 -0.1)\">\r\n       <defs>\r\n        <path d=\"M 350 1059 \r\nL 891 1109 \r\nQ 959 728 1153 556 \r\nQ 1347 384 1650 384 \r\nQ 1909 384 2104 503 \r\nQ 2300 622 2425 820 \r\nQ 2550 1019 2634 1356 \r\nQ 2719 1694 2719 2044 \r\nQ 2719 2081 2716 2156 \r\nQ 2547 1888 2255 1720 \r\nQ 1963 1553 1622 1553 \r\nQ 1053 1553 659 1965 \r\nQ 266 2378 266 3053 \r\nQ 266 3750 677 4175 \r\nQ 1088 4600 1706 4600 \r\nQ 2153 4600 2523 4359 \r\nQ 2894 4119 3086 3673 \r\nQ 3278 3228 3278 2384 \r\nQ 3278 1506 3087 986 \r\nQ 2897 466 2520 194 \r\nQ 2144 -78 1638 -78 \r\nQ 1100 -78 759 220 \r\nQ 419 519 350 1059 \r\nz\r\nM 2653 3081 \r\nQ 2653 3566 2395 3850 \r\nQ 2138 4134 1775 4134 \r\nQ 1400 4134 1122 3828 \r\nQ 844 3522 844 3034 \r\nQ 844 2597 1108 2323 \r\nQ 1372 2050 1759 2050 \r\nQ 2150 2050 2401 2323 \r\nQ 2653 2597 2653 3081 \r\nz\r\n\" id=\"ArialMT-39\" transform=\"scale(0.015625)\"/>\r\n       </defs>\r\n       <use xlink:href=\"#ArialMT-39\"/>\r\n       <use x=\"55.615234\" xlink:href=\"#ArialMT-30\"/>\r\n       <use x=\"111.230469\" xlink:href=\"#ArialMT-30\"/>\r\n      </g>\r\n     </g>\r\n    </g>\r\n    <g id=\"ytick_7\">\r\n     <g id=\"line2d_31\">\r\n      <path clip-path=\"url(#p7c1298a4ed)\" d=\"M 50.766563 10.778906 \r\nL 497.166562 10.778906 \r\n\" style=\"fill:none;stroke:#cccccc;stroke-linecap:round;\"/>\r\n     </g>\r\n     <g id=\"line2d_32\"/>\r\n     <g id=\"text_17\">\r\n      <!-- 1000 -->\r\n      <g style=\"fill:#262626;\" transform=\"translate(21.522813 14.357812)scale(0.1 -0.1)\">\r\n       <use xlink:href=\"#ArialMT-31\"/>\r\n       <use x=\"55.615234\" xlink:href=\"#ArialMT-30\"/>\r\n       <use x=\"111.230469\" xlink:href=\"#ArialMT-30\"/>\r\n       <use x=\"166.845703\" xlink:href=\"#ArialMT-30\"/>\r\n      </g>\r\n     </g>\r\n    </g>\r\n    <g id=\"text_18\">\r\n     <!-- Scoring -->\r\n     <g style=\"fill:#262626;\" transform=\"translate(15.207656 178.916484)rotate(-90)scale(0.11 -0.11)\">\r\n      <defs>\r\n       <path d=\"M 2588 1216 \r\nL 3141 1144 \r\nQ 3050 572 2676 248 \r\nQ 2303 -75 1759 -75 \r\nQ 1078 -75 664 370 \r\nQ 250 816 250 1647 \r\nQ 250 2184 428 2587 \r\nQ 606 2991 970 3192 \r\nQ 1334 3394 1763 3394 \r\nQ 2303 3394 2647 3120 \r\nQ 2991 2847 3088 2344 \r\nL 2541 2259 \r\nQ 2463 2594 2264 2762 \r\nQ 2066 2931 1784 2931 \r\nQ 1359 2931 1093 2626 \r\nQ 828 2322 828 1663 \r\nQ 828 994 1084 691 \r\nQ 1341 388 1753 388 \r\nQ 2084 388 2306 591 \r\nQ 2528 794 2588 1216 \r\nz\r\n\" id=\"ArialMT-63\" transform=\"scale(0.015625)\"/>\r\n       <path d=\"M 213 1659 \r\nQ 213 2581 725 3025 \r\nQ 1153 3394 1769 3394 \r\nQ 2453 3394 2887 2945 \r\nQ 3322 2497 3322 1706 \r\nQ 3322 1066 3130 698 \r\nQ 2938 331 2570 128 \r\nQ 2203 -75 1769 -75 \r\nQ 1072 -75 642 372 \r\nQ 213 819 213 1659 \r\nz\r\nM 791 1659 \r\nQ 791 1022 1069 705 \r\nQ 1347 388 1769 388 \r\nQ 2188 388 2466 706 \r\nQ 2744 1025 2744 1678 \r\nQ 2744 2294 2464 2611 \r\nQ 2184 2928 1769 2928 \r\nQ 1347 2928 1069 2612 \r\nQ 791 2297 791 1659 \r\nz\r\n\" id=\"ArialMT-6f\" transform=\"scale(0.015625)\"/>\r\n       <path d=\"M 425 3934 \r\nL 425 4581 \r\nL 988 4581 \r\nL 988 3934 \r\nL 425 3934 \r\nz\r\nM 425 0 \r\nL 425 3319 \r\nL 988 3319 \r\nL 988 0 \r\nL 425 0 \r\nz\r\n\" id=\"ArialMT-69\" transform=\"scale(0.015625)\"/>\r\n       <path d=\"M 422 0 \r\nL 422 3319 \r\nL 928 3319 \r\nL 928 2847 \r\nQ 1294 3394 1984 3394 \r\nQ 2284 3394 2536 3286 \r\nQ 2788 3178 2913 3003 \r\nQ 3038 2828 3088 2588 \r\nQ 3119 2431 3119 2041 \r\nL 3119 0 \r\nL 2556 0 \r\nL 2556 2019 \r\nQ 2556 2363 2490 2533 \r\nQ 2425 2703 2258 2804 \r\nQ 2091 2906 1866 2906 \r\nQ 1506 2906 1245 2678 \r\nQ 984 2450 984 1813 \r\nL 984 0 \r\nL 422 0 \r\nz\r\n\" id=\"ArialMT-6e\" transform=\"scale(0.015625)\"/>\r\n       <path d=\"M 319 -275 \r\nL 866 -356 \r\nQ 900 -609 1056 -725 \r\nQ 1266 -881 1628 -881 \r\nQ 2019 -881 2231 -725 \r\nQ 2444 -569 2519 -288 \r\nQ 2563 -116 2559 434 \r\nQ 2191 0 1641 0 \r\nQ 956 0 581 494 \r\nQ 206 988 206 1678 \r\nQ 206 2153 378 2554 \r\nQ 550 2956 876 3175 \r\nQ 1203 3394 1644 3394 \r\nQ 2231 3394 2613 2919 \r\nL 2613 3319 \r\nL 3131 3319 \r\nL 3131 450 \r\nQ 3131 -325 2973 -648 \r\nQ 2816 -972 2473 -1159 \r\nQ 2131 -1347 1631 -1347 \r\nQ 1038 -1347 672 -1080 \r\nQ 306 -813 319 -275 \r\nz\r\nM 784 1719 \r\nQ 784 1066 1043 766 \r\nQ 1303 466 1694 466 \r\nQ 2081 466 2343 764 \r\nQ 2606 1063 2606 1700 \r\nQ 2606 2309 2336 2618 \r\nQ 2066 2928 1684 2928 \r\nQ 1309 2928 1046 2623 \r\nQ 784 2319 784 1719 \r\nz\r\n\" id=\"ArialMT-67\" transform=\"scale(0.015625)\"/>\r\n      </defs>\r\n      <use xlink:href=\"#ArialMT-53\"/>\r\n      <use x=\"66.699219\" xlink:href=\"#ArialMT-63\"/>\r\n      <use x=\"116.699219\" xlink:href=\"#ArialMT-6f\"/>\r\n      <use x=\"172.314453\" xlink:href=\"#ArialMT-72\"/>\r\n      <use x=\"205.615234\" xlink:href=\"#ArialMT-69\"/>\r\n      <use x=\"227.832031\" xlink:href=\"#ArialMT-6e\"/>\r\n      <use x=\"283.447266\" xlink:href=\"#ArialMT-67\"/>\r\n     </g>\r\n    </g>\r\n   </g>\r\n   <g id=\"PathCollection_1\">\r\n    <defs>\r\n     <path d=\"M 0 3.5 \r\nC 0.928211 3.5 1.81853 3.131218 2.474874 2.474874 \r\nC 3.131218 1.81853 3.5 0.928211 3.5 0 \r\nC 3.5 -0.928211 3.131218 -1.81853 2.474874 -2.474874 \r\nC 1.81853 -3.131218 0.928211 -3.5 0 -3.5 \r\nC -0.928211 -3.5 -1.81853 -3.131218 -2.474874 -2.474874 \r\nC -3.131218 -1.81853 -3.5 -0.928211 -3.5 0 \r\nC -3.5 0.928211 -3.131218 1.81853 -2.474874 2.474874 \r\nC -1.81853 3.131218 -0.928211 3.5 0 3.5 \r\nz\r\n\" id=\"ma79843287f\" style=\"stroke:#006ba4;stroke-width:0.3;\"/>\r\n    </defs>\r\n    <g clip-path=\"url(#p7c1298a4ed)\">\r\n     <use style=\"fill:#006ba4;stroke:#006ba4;stroke-width:0.3;\" x=\"76.275134\" xlink:href=\"#ma79843287f\" y=\"286.300475\"/>\r\n     <use style=\"fill:#006ba4;stroke:#006ba4;stroke-width:0.3;\" x=\"101.783705\" xlink:href=\"#ma79843287f\" y=\"206.725799\"/>\r\n     <use style=\"fill:#006ba4;stroke:#006ba4;stroke-width:0.3;\" x=\"471.657991\" xlink:href=\"#ma79843287f\" y=\"68.735029\"/>\r\n     <use style=\"fill:#006ba4;stroke:#006ba4;stroke-width:0.3;\" x=\"497.166562\" xlink:href=\"#ma79843287f\" y=\"48.036414\"/>\r\n     <use style=\"fill:#006ba4;stroke:#006ba4;stroke-width:0.3;\" x=\"89.02942\" xlink:href=\"#ma79843287f\" y=\"259.62226\"/>\r\n     <use style=\"fill:#006ba4;stroke:#006ba4;stroke-width:0.3;\" x=\"165.555134\" xlink:href=\"#ma79843287f\" y=\"130.830875\"/>\r\n     <use style=\"fill:#006ba4;stroke:#006ba4;stroke-width:0.3;\" x=\"124.74142\" xlink:href=\"#ma79843287f\" y=\"170.388229\"/>\r\n     <use style=\"fill:#006ba4;stroke:#006ba4;stroke-width:0.3;\" x=\"369.623705\" xlink:href=\"#ma79843287f\" y=\"55.855891\"/>\r\n     <use style=\"fill:#006ba4;stroke:#006ba4;stroke-width:0.3;\" x=\"293.097991\" xlink:href=\"#ma79843287f\" y=\"127.611091\"/>\r\n     <use style=\"fill:#006ba4;stroke:#006ba4;stroke-width:0.3;\" x=\"267.58942\" xlink:href=\"#ma79843287f\" y=\"88.053737\"/>\r\n    </g>\r\n   </g>\r\n   <g id=\"line2d_33\">\r\n    <path clip-path=\"url(#p7c1298a4ed)\" d=\"M 76.275134 224.252366 \r\nL 101.783705 212.198693 \r\nL 471.657991 37.420441 \r\nL 497.166562 25.366769 \r\nL 89.02942 218.225529 \r\nL 165.555134 182.064512 \r\nL 124.74142 201.350388 \r\nL 369.623705 85.635132 \r\nL 293.097991 121.796149 \r\nL 267.58942 133.849822 \r\n\" style=\"fill:none;stroke:#ff0000;stroke-linecap:round;stroke-width:1.75;\"/>\r\n   </g>\r\n   <g id=\"patch_3\">\r\n    <path d=\"M 50.766563 309.758906 \r\nL 50.766563 10.778906 \r\n\" style=\"fill:none;stroke:#cccccc;stroke-linecap:square;stroke-linejoin:miter;\"/>\r\n   </g>\r\n   <g id=\"patch_4\">\r\n    <path d=\"M 497.166562 309.758906 \r\nL 497.166562 10.778906 \r\n\" style=\"fill:none;stroke:#cccccc;stroke-linecap:square;stroke-linejoin:miter;\"/>\r\n   </g>\r\n   <g id=\"patch_5\">\r\n    <path d=\"M 50.766563 309.758906 \r\nL 497.166562 309.758906 \r\n\" style=\"fill:none;stroke:#cccccc;stroke-linecap:square;stroke-linejoin:miter;\"/>\r\n   </g>\r\n   <g id=\"patch_6\">\r\n    <path d=\"M 50.766563 10.778906 \r\nL 497.166562 10.778906 \r\n\" style=\"fill:none;stroke:#cccccc;stroke-linecap:square;stroke-linejoin:miter;\"/>\r\n   </g>\r\n  </g>\r\n </g>\r\n <defs>\r\n  <clipPath id=\"p7c1298a4ed\">\r\n   <rect height=\"298.98\" width=\"446.4\" x=\"50.766563\" y=\"10.778906\"/>\r\n  </clipPath>\r\n </defs>\r\n</svg>\r\n",
      "image/png": "[encoded data removed]"
     },
     "metadata": {}
    }
   ],
   "metadata": {}
  },
  {
   "cell_type": "code",
   "execution_count": 151,
   "source": [
    "# task 3\r\n",
    "Z, R2 = calculate_R2(X, scoring)\r\n",
    "print(f'The determination coefficient: {R2:.2f} (user way), {r2_score(scoring, Z):.2f} (built-in way)')"
   ],
   "outputs": [
    {
     "output_type": "stream",
     "name": "stdout",
     "text": [
      "The determination coefficient: 0.79 (user way), 0.79 (built-in way)\n"
     ]
    }
   ],
   "metadata": {}
  },
  {
   "cell_type": "code",
   "execution_count": 152,
   "source": [
    "# task 4\r\n",
    "print(if_significant(X, R2, 0.05))"
   ],
   "outputs": [
    {
     "output_type": "stream",
     "name": "stdout",
     "text": [
      "F = 29.672, f_cr = 5.318\n",
      "The linear regression model fits the data at the significance level of 0.05\n"
     ]
    }
   ],
   "metadata": {}
  },
  {
   "cell_type": "code",
   "execution_count": 153,
   "source": [
    "# task 5\r\n",
    "\r\n",
    "# check whether founded values of coefficients are statistically significant\r\n",
    "scoring_predicted = b0 + b1 * salary # predicted scoring values\r\n",
    "n = scoring.size\r\n",
    "t_cr = stats.t.ppf(1 - alpha/2, n - 2) # critical t-statistic value\r\n",
    "scoring_std = np.sqrt(np.sum((scoring - scoring_predicted)**2) / (n - 2)) # standard error\r\n",
    "m_b0 = scoring_std * np.sqrt(np.sum(salary**2)) / (n * np.std(salary))\r\n",
    "m_b1 = scoring_std / (np.sqrt(n) * np.std(salary))\r\n",
    "# find observed value of t statistic\r\n",
    "t_b0 = b0 / m_b0 \r\n",
    "t_b1 = b1 / m_b1\r\n",
    "print(f\"t_b0 = {t_b0:.3f}, t_cr = {t_cr:.3f}\")\r\n",
    "print(f\"t_b1 = {t_b1:.3f}, t_cr = {t_cr:.3f}\")\r\n",
    "print(f\"The founded coefficient values are statistically sigificant at the level of {alpha}\\n\")\r\n",
    "\r\n",
    "# find confidence intervals for coefficients\r\n",
    "delta_b0 = t_cr * m_b0 # the margin value of the intercept error\r\n",
    "delta_b1 = t_cr * m_b1 # the margin value of the slope error\r\n",
    "print(f\"The b0 value ({b0:.2f}) should lie between {b0 - delta_b0:.2f} and {b0 + delta_b0:.2f} with {100*(1-alpha):.0f}% probability\")\r\n",
    "print(f\"The b0 value ({b1:.2f}) should lie between {b1 - delta_b1:.2f} and {b1 + delta_b1:.2f} with {100*(1-alpha):.0f}% probability\")"
   ],
   "outputs": [
    {
     "output_type": "stream",
     "name": "stdout",
     "text": [
      "t_b0 = 7.866, t_cr = 2.306\n",
      "t_b1 = 5.447, t_cr = 2.306\n",
      "The founded coefficient values are statistically sigificant at the level of 0.05\n",
      "\n",
      "The b0 value (444.18) should lie between 313.97 and 574.39 with 95% probability\n",
      "The b0 value (2.62) should lie between 1.51 and 3.73 with 95% probability\n"
     ]
    }
   ],
   "metadata": {}
  },
  {
   "cell_type": "code",
   "execution_count": 154,
   "source": [
    "# task 6\r\n",
    "A = 1 / n * np.sum(np.abs((scoring - scoring_predicted) / scoring)) * 100 # average approximation error\r\n",
    "print(f\"The linear regression model relatively well fits the data (average approximation error: {A:.2f}%)\")"
   ],
   "outputs": [
    {
     "output_type": "stream",
     "name": "stdout",
     "text": [
      "The linear regression model relatively well fits the data (average approximation error: 11.47%)\n"
     ]
    }
   ],
   "metadata": {}
  }
 ]
}