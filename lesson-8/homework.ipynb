{
 "metadata": {
  "language_info": {
   "codemirror_mode": {
    "name": "ipython",
    "version": 3
   },
   "file_extension": ".py",
   "mimetype": "text/x-python",
   "name": "python",
   "nbconvert_exporter": "python",
   "pygments_lexer": "ipython3",
   "version": "3.9.5"
  },
  "orig_nbformat": 2,
  "kernelspec": {
   "name": "python3",
   "display_name": "Python 3.9.5 64-bit"
  },
  "metadata": {
   "interpreter": {
    "hash": "251e81559002ddd7b2bf032dcaac0eab8c07dc3f187a921f1aa359dc2a69befe"
   }
  },
  "interpreter": {
   "hash": "251e81559002ddd7b2bf032dcaac0eab8c07dc3f187a921f1aa359dc2a69befe"
  }
 },
 "nbformat": 4,
 "nbformat_minor": 2,
 "cells": [
  {
   "cell_type": "markdown",
   "source": [
    "<h1>Practical Tasks<h1>"
   ],
   "metadata": {}
  },
  {
   "cell_type": "markdown",
   "source": [
    "<h2>Common modules<h2>"
   ],
   "metadata": {}
  },
  {
   "cell_type": "code",
   "execution_count": 15,
   "source": [
    "import numpy as np\r\n",
    "from scipy import stats"
   ],
   "outputs": [],
   "metadata": {}
  },
  {
   "cell_type": "markdown",
   "source": [
    "<h2>Task 1<h2>"
   ],
   "metadata": {}
  },
  {
   "cell_type": "code",
   "execution_count": 18,
   "source": [
    "# source data\r\n",
    "y1 = np.array([173, 175, 180, 178, 177, 185, 183, 182], dtype=np.float64)\r\n",
    "y2 = np.array([177, 179, 180, 188, 177, 172, 171, 184, 180], dtype=np.float64)\r\n",
    "y3 = np.array([172, 173, 169, 177, 166, 180, 178, 177, 172, 166, 170], dtype=np.float64)\r\n",
    "\r\n",
    "n1 = y1.shape[0]\r\n",
    "n2 = y2.shape[0]\r\n",
    "n3 = y3.shape[0]\r\n",
    "\r\n",
    "y1_mean = y1.mean()\r\n",
    "y2_mean = y2.mean()\r\n",
    "y3_mean = y3.mean()\r\n",
    "\r\n",
    "y = np.concatenate([y1, y2, y3])\r\n",
    "y_mean = y.mean()\r\n",
    "\r\n",
    "# SS_b std between groups, SS_w - std within groups\r\n",
    "SS_b = n1 * (y1_mean - y_mean)**2 + n2 * (y2_mean - y_mean)**2 + n3 * (y3_mean - y_mean)**2\r\n",
    "SS_w = ((y1 - y1_mean)**2).sum() + ((y2 - y2_mean)**2).sum() + ((y3 - y3_mean)**2).sum()\r\n",
    "\r\n",
    "# checking condition\r\n",
    "# print(f\"{SS_b + SS_w - ((y - y_mean)**2).sum():4f}\")\r\n",
    "\r\n",
    "k = 3 # number of categories\r\n",
    "n = n1 + n2 + n3\r\n",
    "k1 = k - 1\r\n",
    "k2 = n - k\r\n",
    "sigma_b = SS_b / k1\r\n",
    "sigma_w = SS_w / k2\r\n",
    "T = sigma_b / sigma_w # statistic value\r\n",
    "\r\n",
    "# test significance\r\n",
    "alpha = 0.05\r\n",
    "F_crit = stats.f.ppf(1-alpha, k1, k2) # critical value\r\n",
    "p = 1 - stats.f.cdf(T, k1, k2) # p value\r\n",
    "\r\n",
    "# printing results of analysis\r\n",
    "x = f\"User way: the difference between categories is significant at the level of {alpha}\" if T > F_crit else f\"User way: the difference between categories is insignificant at the level of {alpha}\"\r\n",
    "print(x)\r\n",
    "results = stats.f_oneway(y1, y2, y3)\r\n",
    "x = f\"Built-in way (f_oneway): the difference between categories is significant at the level of {alpha}\" if results[0] > F_crit else f\"Built-in way (f_oneway): the difference between categories is insignificant at the level of {alpha}\"\r\n",
    "print(x)"
   ],
   "outputs": [
    {
     "output_type": "stream",
     "name": "stdout",
     "text": [
      "User way: the difference between categories is significant at the level of 0.05\n",
      "Built-in way (f_oneway): the difference between categories is significant at the level of 0.05\n"
     ]
    }
   ],
   "metadata": {}
  }
 ]
}