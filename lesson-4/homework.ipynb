{
 "metadata": {
  "language_info": {
   "codemirror_mode": {
    "name": "ipython",
    "version": 3
   },
   "file_extension": ".py",
   "mimetype": "text/x-python",
   "name": "python",
   "nbconvert_exporter": "python",
   "pygments_lexer": "ipython3",
   "version": "3.9.5"
  },
  "orig_nbformat": 2,
  "kernelspec": {
   "name": "python3",
   "display_name": "Python 3.9.5 64-bit"
  },
  "metadata": {
   "interpreter": {
    "hash": "251e81559002ddd7b2bf032dcaac0eab8c07dc3f187a921f1aa359dc2a69befe"
   }
  },
  "interpreter": {
   "hash": "251e81559002ddd7b2bf032dcaac0eab8c07dc3f187a921f1aa359dc2a69befe"
  }
 },
 "nbformat": 4,
 "nbformat_minor": 2,
 "cells": [
  {
   "cell_type": "markdown",
   "source": [
    "<h1>Practical Tasks<h1>"
   ],
   "metadata": {}
  },
  {
   "cell_type": "markdown",
   "source": [
    "<h2>Common modules<h2>"
   ],
   "metadata": {}
  },
  {
   "cell_type": "code",
   "execution_count": 16,
   "source": [
    "import numpy as np\r\n",
    "from scipy import stats"
   ],
   "outputs": [],
   "metadata": {}
  },
  {
   "cell_type": "markdown",
   "source": [
    "<h2>Task 1<h2>"
   ],
   "metadata": {}
  },
  {
   "cell_type": "code",
   "execution_count": 14,
   "source": [
    "D_uniform = 0.2\r\n",
    "left_margin = 0.5\r\n",
    "# 1) right_margin = 2*M_uniform-left_margin, M_uniform - expected value.\r\n",
    "# 2) D_uniform = (M_uniform-left_margin)**2 / 3 => M_uniform**2 - 2*M_uniform*left_margin+(left_margin**2-3*D_uniform) = 0\r\n",
    "roots = np.roots([1, -2*left_margin, left_margin**2-3*D_uniform])\r\n",
    "M_uniform = roots[roots>0]\r\n",
    "right_margin = 2*M_uniform[0] - left_margin\r\n",
    "print(f\"The expected value: {M_uniform[0]:.3f}, right margin: {right_margin:.2f}\")"
   ],
   "outputs": [
    {
     "output_type": "stream",
     "name": "stdout",
     "text": [
      "The expected value: 1.275, right margin: 2.05\n"
     ]
    }
   ],
   "metadata": {}
  },
  {
   "cell_type": "markdown",
   "source": [
    "<h2>Task 2<h2>"
   ],
   "metadata": {}
  },
  {
   "cell_type": "code",
   "execution_count": 29,
   "source": [
    "mu_height = 174 # cm\r\n",
    "std_height = 8 # cm\r\n",
    "\r\n",
    "# 1: 182 cm < height \r\n",
    "P_182 = stats.norm.cdf(182, mu_height, std_height)\r\n",
    "print(f\"The probability that a person is taller than 182 cm: {1 - P_182:.2f}\")\r\n",
    "\r\n",
    "# 2: 190 cm < height \r\n",
    "P_190 = stats.norm.cdf(190, mu_height, std_height)\r\n",
    "print(f\"The probability that a person is taller than 190 cm: {1 - P_190:.2f}\")\r\n",
    "\r\n",
    "# 3: 166 cm < height < 190 cm\r\n",
    "P_166 = stats.norm.cdf(166, mu_height, std_height)\r\n",
    "print(f\"The probability that a person is taller than 166 cm but lower than 190 cm: {P_190 - P_166:.2f}\")\r\n",
    "\r\n",
    "# 4: 166 cm < height < 182 cm\r\n",
    "print(f\"The probability that a person is taller than 166 cm but lower than 182 cm: {P_182 - P_166:.2f}\")\r\n",
    "\r\n",
    "# 5: 158 cm < height < 190 cm\r\n",
    "P_158 = stats.norm.cdf(158, mu_height, std_height)\r\n",
    "print(f\"The probability that a person is taller than 158 cm but lower than 190 cm: {P_190 - P_158:.2f}\")\r\n",
    "\r\n",
    "# 6: height <= 150 cm or height >= 190 cm\r\n",
    "P_150 = stats.norm.cdf(150, mu_height, std_height)\r\n",
    "P_190 = stats.norm.cdf(190, mu_height, std_height)\r\n",
    "print(f\"The probability that a person is no taller than 150 cm or no lower than 190 cm: {(P_150 + (1-P_190)):.2f}\")\r\n",
    "\r\n",
    "# 7: height <= 150 cm or height >= 198 cm\r\n",
    "P_198 = stats.norm.cdf(198, mu_height, std_height)\r\n",
    "print(f\"The probability that a person is no taller than 150 cm or no lower than 198 cm: {(P_150 + (1-P_198)):.3f}\")\r\n",
    "\r\n",
    "# 7: height < 166 cm\r\n",
    "P_166 = stats.norm.cdf(166, mu_height, std_height)\r\n",
    "print(f\"The probability that a person is lower than 166 cm: {P_166:.2f}\")"
   ],
   "outputs": [
    {
     "output_type": "stream",
     "name": "stdout",
     "text": [
      "The probability that a person is taller than 182 cm: 0.16\n",
      "The probability that a person is taller than 190 cm: 0.02\n",
      "The probability that a person is taller than 166 cm but lower than 190 cm: 0.82\n",
      "The probability that a person is taller than 166 cm but lower than 182 cm: 0.68\n",
      "The probability that a person is taller than 158 cm but lower than 190 cm: 0.95\n",
      "The probability that a person is no taller than 150 cm or no lower than 190 cm: 0.02\n",
      "The probability that a person is no taller than 150 cm or no lower than 198 cm: 0.003\n",
      "The probability that a person is lower than 166 cm: 0.16\n"
     ]
    }
   ],
   "metadata": {}
  },
  {
   "cell_type": "markdown",
   "source": [
    "<h2>Task 3<h2>"
   ],
   "metadata": {}
  },
  {
   "cell_type": "code",
   "execution_count": 56,
   "source": [
    "mu_mass = 1.06 # kg\r\n",
    "prob_0 = 0.05 # mass < 1 kg\r\n",
    "\r\n",
    "# find std\r\n",
    "std = 1.06 - 1\r\n",
    "step = std / 1000\r\n",
    "prob = stats.norm.cdf(1, mu_mass, std)\r\n",
    "precision = 1e-4\r\n",
    "\r\n",
    "while abs(prob - prob_0) > precision:\r\n",
    "    std -= step\r\n",
    "    prob = stats.norm.cdf(1, mu_mass, std)\r\n",
    "else:\r\n",
    "    print(f\"The standard deviation: {std:.3f} kg\")\r\n",
    "\r\n",
    "print(f\"The percentage of boxes with a mass more than 1.1 kg: {(1 - stats.norm.cdf(1.1, mu_mass, std))*100:.0f}%\")\r\n",
    "    "
   ],
   "outputs": [
    {
     "output_type": "stream",
     "name": "stdout",
     "text": [
      "The standard deviation: 0.036 kg\n",
      "The percentage of boxes with a mass more than 1.1 kg: 14%\n"
     ]
    }
   ],
   "metadata": {}
  }
 ]
}