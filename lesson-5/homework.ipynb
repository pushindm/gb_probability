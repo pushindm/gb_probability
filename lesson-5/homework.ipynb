{
 "metadata": {
  "language_info": {
   "codemirror_mode": {
    "name": "ipython",
    "version": 3
   },
   "file_extension": ".py",
   "mimetype": "text/x-python",
   "name": "python",
   "nbconvert_exporter": "python",
   "pygments_lexer": "ipython3",
   "version": "3.9.5"
  },
  "orig_nbformat": 2,
  "kernelspec": {
   "name": "python3",
   "display_name": "Python 3.9.5 64-bit"
  },
  "metadata": {
   "interpreter": {
    "hash": "251e81559002ddd7b2bf032dcaac0eab8c07dc3f187a921f1aa359dc2a69befe"
   }
  },
  "interpreter": {
   "hash": "251e81559002ddd7b2bf032dcaac0eab8c07dc3f187a921f1aa359dc2a69befe"
  }
 },
 "nbformat": 4,
 "nbformat_minor": 2,
 "cells": [
  {
   "cell_type": "markdown",
   "source": [
    "<h1>Practical Tasks<h1>"
   ],
   "metadata": {}
  },
  {
   "cell_type": "markdown",
   "source": [
    "<h2>Common modules<h2>"
   ],
   "metadata": {}
  },
  {
   "cell_type": "code",
   "execution_count": 1,
   "source": [
    "import numpy as np\r\n",
    "from scipy import stats"
   ],
   "outputs": [],
   "metadata": {}
  },
  {
   "cell_type": "markdown",
   "source": [
    "<h2>Task 1<h2>"
   ],
   "metadata": {}
  },
  {
   "cell_type": "code",
   "execution_count": 2,
   "source": [
    "std_theory = 16\r\n",
    "p = 0.95\r\n",
    "sample_mean = 80\r\n",
    "N = 256\r\n",
    "\r\n",
    "alpha = 1 - p\r\n",
    "# using z-statistic\r\n",
    "t1 = stats.norm.ppf(alpha/2)\r\n",
    "t2 = stats.norm.ppf(1 - alpha/2)\r\n",
    "\r\n",
    "L = sample_mean + t1 * std_theory / np.sqrt(std_theory)\r\n",
    "U = sample_mean + t2 * std_theory / np.sqrt(std_theory)\r\n",
    "print(f\"The confident interval for sample mean {sample_mean} with probability {p}: {L:.2f} and {U:.2f}\")"
   ],
   "outputs": [
    {
     "output_type": "stream",
     "name": "stdout",
     "text": [
      "The confident interval for sample mean 80 with probability 0.95: 72.16 and 87.84\n"
     ]
    }
   ],
   "metadata": {}
  },
  {
   "cell_type": "markdown",
   "source": [
    "<h2>Task 2<h2>"
   ],
   "metadata": {}
  },
  {
   "cell_type": "code",
   "execution_count": 3,
   "source": [
    "mu = 200 # g\r\n",
    "sample_weight = np.array([202, 203, 199, 197, 195, 201, 200, 204, 194, 190])\r\n",
    "N_cookies = sample_weight.shape[0]\r\n",
    "alpha = 0.01\r\n",
    "\r\n",
    "t1_cookies = stats.t.ppf(alpha/2, df=N_cookies - 1)\r\n",
    "t2_cookies = stats.t.ppf(1 - alpha/2, df=N_cookies - 1)\r\n",
    "t_sample = (sample_weight.mean() - mu) / (sample_weight.std(ddof=1) / np.sqrt(N_cookies))\r\n",
    "\r\n",
    "if_right = t1_cookies < t_sample < t2_cookies\r\n",
    "\r\n",
    "if if_right:\r\n",
    "    print(f\"The saler does not lie\")\r\n",
    "else:\r\n",
    "    print(f\"The saler is a liar!\")\r\n",
    "\r\n",
    "p_left = stats.t.cdf(t_sample, df=N_cookies - 1)\r\n",
    "p_right = 1 - stats.t.cdf(t_sample, df=N_cookies - 1)\r\n",
    "p_value = 2*min(p_left, p_right)\r\n",
    "print(f\"THe p-value: {p_value:.3f}\")"
   ],
   "outputs": [
    {
     "output_type": "stream",
     "name": "stdout",
     "text": [
      "The saler does not lie\n",
      "THe p-value: 0.315\n"
     ]
    }
   ],
   "metadata": {}
  },
  {
   "cell_type": "markdown",
   "source": [
    "<h2>Task 3<h2>"
   ],
   "metadata": {}
  },
  {
   "cell_type": "code",
   "execution_count": 4,
   "source": [
    "mu_diameter = 17 # mm\r\n",
    "alpha = 0.025\r\n",
    "N_balls = 100\r\n",
    "sample_mean_balls = 17.5 # mm\r\n",
    "sample_variance_balls = 4 # mm^2\r\n",
    "\r\n",
    "t_sample_balls = (sample_mean_balls - mu_diameter) / (np.sqrt(sample_variance_balls) / np.sqrt(N_balls))\r\n",
    "tr_balls = stats.t.ppf(1 - alpha, df=N_balls - 1)\r\n",
    "\r\n",
    "if_right = t_sample_balls < tr_balls\r\n",
    "if if_right:\r\n",
    "    print(f\"The H_0 is true\")\r\n",
    "else:\r\n",
    "    print(f\"The H_0 is false\")"
   ],
   "outputs": [
    {
     "output_type": "stream",
     "name": "stdout",
     "text": [
      "The H_0 is false\n"
     ]
    }
   ],
   "metadata": {}
  },
  {
   "cell_type": "markdown",
   "source": [
    "<h2>Task 4<h2>"
   ],
   "metadata": {}
  },
  {
   "cell_type": "code",
   "execution_count": 5,
   "source": [
    "samples = np.array([0.6603, 0.9466, 0.5968, 1.3792, 1.5481, 0.7515, 1.0681, 1.1134,\r\n",
    "1.2088, 1.701 , 1.0282, 1.3579, 1.0191, 1.1784, 1.1168, 1.1372,\r\n",
    "0.7273, 1.3958, 0.8665, 1.5112, 1.161 , 1.0232, 1.0865, 1.02 ])\r\n",
    "general_variance = 0.0625\r\n",
    "alpha = 0.05\r\n",
    "\r\n",
    "test_statistic = (samples.shape[0] - 1) * (samples.std(ddof=1))**2 / general_variance\r\n",
    "xi1 = stats.chi2.ppf(alpha/2, df=samples.shape[0] - 1)\r\n",
    "xi2 = stats.chi2.ppf(1 - alpha/2, df=samples.shape[0] - 1)\r\n",
    "\r\n",
    "if_right = xi1 < test_statistic < xi2\r\n",
    "if if_right:\r\n",
    "    print(f\"The H0 hypothesis is true\")\r\n",
    "else:\r\n",
    "    print(f\"The H0 hypothesis is not true\")"
   ],
   "outputs": [
    {
     "output_type": "stream",
     "name": "stdout",
     "text": [
      "The H0 hypothesis is true\n"
     ]
    }
   ],
   "metadata": {}
  }
 ]
}