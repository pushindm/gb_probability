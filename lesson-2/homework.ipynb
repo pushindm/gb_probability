{
 "metadata": {
  "language_info": {
   "codemirror_mode": {
    "name": "ipython",
    "version": 3
   },
   "file_extension": ".py",
   "mimetype": "text/x-python",
   "name": "python",
   "nbconvert_exporter": "python",
   "pygments_lexer": "ipython3",
   "version": "3.9.5"
  },
  "orig_nbformat": 2,
  "kernelspec": {
   "name": "python3",
   "display_name": "Python 3.9.5 64-bit"
  },
  "metadata": {
   "interpreter": {
    "hash": "251e81559002ddd7b2bf032dcaac0eab8c07dc3f187a921f1aa359dc2a69befe"
   }
  },
  "interpreter": {
   "hash": "251e81559002ddd7b2bf032dcaac0eab8c07dc3f187a921f1aa359dc2a69befe"
  }
 },
 "nbformat": 4,
 "nbformat_minor": 2,
 "cells": [
  {
   "cell_type": "markdown",
   "source": [
    "<h1>Practical Tasks<h1>"
   ],
   "metadata": {}
  },
  {
   "cell_type": "markdown",
   "source": [
    "<h2>Common modules<h2>"
   ],
   "metadata": {}
  },
  {
   "cell_type": "code",
   "execution_count": 1,
   "source": [
    "import numpy as np"
   ],
   "outputs": [],
   "metadata": {}
  },
  {
   "cell_type": "markdown",
   "source": [
    "<h2>Common functions<h2>"
   ],
   "metadata": {}
  },
  {
   "cell_type": "code",
   "execution_count": 2,
   "source": [
    "def combinations(n,k):\r\n",
    "    return np.math.factorial(n) // (np.math.factorial(k)*np.math.factorial(n-k))\r\n",
    "\r\n",
    "def binomial_distribution(n, k, p):\r\n",
    "    return combinations(n,k)*np.power(p,k)*np.power((1-p),(n-k))"
   ],
   "outputs": [],
   "metadata": {}
  },
  {
   "cell_type": "markdown",
   "source": [
    "<h2>Task 1<h2>"
   ],
   "metadata": {}
  },
  {
   "cell_type": "code",
   "execution_count": 3,
   "source": [
    "n = 5\r\n",
    "p = 1/4\r\n",
    "total_probability = 0\r\n",
    "for i in range(n+1):\r\n",
    "    probability = binomial_distribution(n,i,p)\r\n",
    "    print(f\"The probability of {i} right randomly chosen answers in {n} questions: {probability:.4}\")\r\n",
    "    total_probability += probability\r\n",
    "print(f\"Total probability: {total_probability}\")\r\n",
    "print(f\"M(X): {n*p:3f}\")\r\n",
    "print(f\"D(X): {n*p*(1-p):3f}\")"
   ],
   "outputs": [
    {
     "output_type": "stream",
     "name": "stdout",
     "text": [
      "The probability of 0 right randomly chosen answers in 5 questions: 0.2373\n",
      "The probability of 1 right randomly chosen answers in 5 questions: 0.3955\n",
      "The probability of 2 right randomly chosen answers in 5 questions: 0.2637\n",
      "The probability of 3 right randomly chosen answers in 5 questions: 0.08789\n",
      "The probability of 4 right randomly chosen answers in 5 questions: 0.01465\n",
      "The probability of 5 right randomly chosen answers in 5 questions: 0.0009766\n",
      "Total probability: 1.0\n",
      "M(X): 1.250000\n",
      "D(X): 0.937500\n"
     ]
    }
   ],
   "metadata": {}
  },
  {
   "cell_type": "markdown",
   "source": [
    "<h2>Task 2<h2>"
   ],
   "metadata": {}
  },
  {
   "cell_type": "code",
   "execution_count": 4,
   "source": [
    "number_of_shots = 200\r\n",
    "hit_probability = 0.01\r\n",
    "answer = sum([binomial_distribution(number_of_shots, i, hit_probability) for i in range(5,11,1)])\r\n",
    "print(f\"The probability that the number of hits will be more or equal to 5 and less or equal to 10 in a series of 200 shots: {answer:.3}\")\r\n"
   ],
   "outputs": [
    {
     "output_type": "stream",
     "name": "stdout",
     "text": [
      "The probability that the number of hits will be more or equal to 5 and less or equal to 10 in a series of 200 shots: 0.0517\n"
     ]
    }
   ],
   "metadata": {}
  },
  {
   "cell_type": "markdown",
   "source": [
    "<h2>Task 3<h2>"
   ],
   "metadata": {}
  },
  {
   "cell_type": "code",
   "execution_count": 6,
   "source": [
    "probability_hit = 0.01\r\n",
    "ans = 0\r\n",
    "number_of_shots = 200\r\n",
    "while ans < 0.9:\r\n",
    "    number_of_shots += 1\r\n",
    "    ans = 1 - sum([binomial_distribution(number_of_shots, i, hit_probability) for i in range(0,10,1)])\r\n",
    "print(f\"P(X>=10) will be equal to {ans:.1} at the number of shots no less than {number_of_shots}\")"
   ],
   "outputs": [
    {
     "output_type": "stream",
     "name": "stdout",
     "text": [
      "P(X>=10) will be equal to 0.9 at the number of shots no less than 1418\n"
     ]
    }
   ],
   "metadata": {}
  }
 ]
}