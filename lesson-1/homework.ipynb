{
 "metadata": {
  "language_info": {
   "codemirror_mode": {
    "name": "ipython",
    "version": 3
   },
   "file_extension": ".py",
   "mimetype": "text/x-python",
   "name": "python",
   "nbconvert_exporter": "python",
   "pygments_lexer": "ipython3",
   "version": "3.9.5"
  },
  "orig_nbformat": 2,
  "kernelspec": {
   "name": "python3",
   "display_name": "Python 3.9.5 64-bit"
  },
  "metadata": {
   "interpreter": {
    "hash": "251e81559002ddd7b2bf032dcaac0eab8c07dc3f187a921f1aa359dc2a69befe"
   }
  },
  "interpreter": {
   "hash": "251e81559002ddd7b2bf032dcaac0eab8c07dc3f187a921f1aa359dc2a69befe"
  }
 },
 "nbformat": 4,
 "nbformat_minor": 2,
 "cells": [
  {
   "cell_type": "markdown",
   "source": [
    "<h1>Practical Tasks<h1>"
   ],
   "metadata": {}
  },
  {
   "cell_type": "markdown",
   "source": [
    "<h2>Common modules<h2>"
   ],
   "metadata": {}
  },
  {
   "cell_type": "code",
   "execution_count": 1,
   "source": [
    "import numpy as np"
   ],
   "outputs": [],
   "metadata": {}
  },
  {
   "cell_type": "markdown",
   "source": [
    "<h2>Common functions<h2>"
   ],
   "metadata": {}
  },
  {
   "cell_type": "code",
   "execution_count": 2,
   "source": [
    "def permutations(n):\r\n",
    "    return np.math.factorial(n)\r\n",
    "\r\n",
    "def arrangements(n,k):\r\n",
    "    return np.math.factorial(n) // np.math.factorial(n - k)\r\n",
    "\r\n",
    "def combinations(n,k):\r\n",
    "    return arrangements(n,k) // permutations(k)"
   ],
   "outputs": [],
   "metadata": {}
  },
  {
   "cell_type": "markdown",
   "source": [
    "<h2>Task 1<h2>"
   ],
   "metadata": {}
  },
  {
   "cell_type": "code",
   "execution_count": 3,
   "source": [
    "# the order is matter\r\n",
    "print(f\"The number of arrangements to choose four different disciplines from 10 uniqie ones: {arrangements(10,4)}\")"
   ],
   "outputs": [
    {
     "output_type": "stream",
     "name": "stdout",
     "text": [
      "The number of arrangements to choose four different disciplines from 10 uniqie ones: 5040\n"
     ]
    }
   ],
   "metadata": {}
  },
  {
   "cell_type": "markdown",
   "source": [
    "<h2>Task 2<h2>"
   ],
   "metadata": {}
  },
  {
   "cell_type": "code",
   "execution_count": 4,
   "source": [
    "# The order does not matter\r\n",
    "total_combinations = combinations(52,4) # number of combinations to choose any 4 cards\r\n",
    "wrong_combinations = combinations(48,4) # number of combinations to choose 4 cards without any ace\r\n",
    "good_combinations = total_combinations - wrong_combinations # number of combinations to choose 4 card with at least one ace\r\n",
    "print(f\"The number of combinations to randomly choose 4 cards from 52 ones with at least one ace: {good_combinations}\")"
   ],
   "outputs": [
    {
     "output_type": "stream",
     "name": "stdout",
     "text": [
      "The Number of combinations to randomly choose 4 cards from 52 ones with at least one ace: 76145\n"
     ]
    }
   ],
   "metadata": {}
  },
  {
   "cell_type": "markdown",
   "source": [
    "<h2>Task 3<h2>"
   ],
   "metadata": {}
  },
  {
   "cell_type": "code",
   "execution_count": 6,
   "source": [
    "total_permutations = permutations(7) # number of permutations of 7 people along a bench\r\n",
    "number_of_places = 6 # number of pairs of seats where two definite people can seat near each other\r\n",
    "good_permutations = permutations(2) # number of permutations of two persons at definite pair of seats\r\n",
    "other_permutations = permutations(5) # number of permutations of other persons\r\n",
    "P = other_permutations * good_permutations * number_of_places / total_permutations\r\n",
    "print(f\"Probability that two definite persons will seat near each other along bench with 7 places: {P:.3}\")"
   ],
   "outputs": [
    {
     "output_type": "stream",
     "name": "stdout",
     "text": [
      "Probability that two definite persons will seat near each other along bench with 7 places: 0.286\n"
     ]
    }
   ],
   "metadata": {}
  },
  {
   "cell_type": "markdown",
   "source": [
    "<h2>Task 4<h2>"
   ],
   "metadata": {}
  },
  {
   "cell_type": "code",
   "execution_count": 11,
   "source": [
    "# the order does not matter\r\n",
    "number_of_unprepared_tickets = 10\r\n",
    "total_ticket_number = 60\r\n",
    "total_ticket_combinations = combinations(60,3) # number of combinations to choose 3 tickets from 60\r\n",
    "# P(A) - probability that student knows all three randomly chosen tickets\r\n",
    "good_ticket_combinations3 = combinations(total_ticket_number-number_of_unprepared_tickets,3)\r\n",
    "P_A = good_ticket_combinations3 / total_ticket_combinations\r\n",
    "print(f\"Probability that student know three tickets from three randomly chosen ones: {P_A:.3}\")\r\n",
    "\r\n",
    "# P(B) - probability that student knows only two from three randomly chosen tickets\r\n",
    "good_ticket_combinations2 = combinations(total_ticket_number-number_of_unprepared_tickets,2) # number of combinations to choose two prepared tickets from all prepared ones\r\n",
    "bad_ticket_combinations = combinations(number_of_unprepared_tickets, 1) # number of combinations to choose one unprepared ticket from all unprepared ones\r\n",
    "# choosing of prepared or unprepared ticket are independent events\r\n",
    "P_B = good_ticket_combinations2 * bad_ticket_combinations / total_ticket_combinations\r\n",
    "print(f\"Probability that student know two tickets from three randomly chosen ones: {P_B:.3}\")\r\n"
   ],
   "outputs": [
    {
     "output_type": "stream",
     "name": "stdout",
     "text": [
      "Probability that student know three tickets from three randomly chosen ones: 0.573\n",
      "Probability that student know two tickets from three randomly chosen ones: 0.358\n"
     ]
    }
   ],
   "metadata": {}
  },
  {
   "cell_type": "markdown",
   "source": [
    "<h2>Task 5<h2>"
   ],
   "metadata": {}
  },
  {
   "cell_type": "code",
   "execution_count": 12,
   "source": [
    "total_event_number = 6\r\n",
    "p_A = 3/6 # the numbers 2, 4 and 6 can be divided by 2 without remainder\r\n",
    "p_B = 3/6 # the numbers 4,5 and 6 are more than 3\r\n",
    "p_AB = 2/6 # the numbers 4,6 are even and more than 3 simultaneously\r\n",
    "# use of probability multiplication rule\r\n",
    "if p_AB / p_A == p_B:\r\n",
    "    print(f\"The events A and B are independent\")\r\n",
    "else:\r\n",
    "    print(f\"The events A and B are not independent\")"
   ],
   "outputs": [
    {
     "output_type": "stream",
     "name": "stdout",
     "text": [
      "The events A and B are not independent\n"
     ]
    }
   ],
   "metadata": {}
  },
  {
   "cell_type": "markdown",
   "source": [
    "<h2>Task 6<h2>"
   ],
   "metadata": {}
  },
  {
   "cell_type": "code",
   "execution_count": 13,
   "source": [
    "# P(A) - the probability to have positive test result\r\n",
    "P_B1 = 0.001 # P(B1) - probability of being infected\r\n",
    "P_B2 = 1 - P_B1 # P(B2) - probability of not being infected\r\n",
    "P_AB1 = 0.99 # P(A|B1) - conditional probability that sick patient is correctly diagnosed \r\n",
    "P_AB2 = 0.01 # P(A|B2) - conditional probability that healthy patient is uncorrectly diagnosed as sick\r\n",
    "P_A = P_B1*P_AB1 + P_B2*P_AB2\r\n",
    "# P_B1A - conditional probability that positive test results correctly indicates the presence of infection\r\n",
    "P_B1A =  (P_B1 * P_AB1) / P_A\r\n",
    "print(f\"The conditional probability that person diagnosed as sick is really infected: {P_B1A:.3}\")"
   ],
   "outputs": [
    {
     "output_type": "stream",
     "name": "stdout",
     "text": [
      "The conditional probability that person diagnosed as sick is really infected: 0.0902\n"
     ]
    }
   ],
   "metadata": {}
  }
 ]
}