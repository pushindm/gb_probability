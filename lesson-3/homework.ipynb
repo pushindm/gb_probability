{
 "metadata": {
  "language_info": {
   "codemirror_mode": {
    "name": "ipython",
    "version": 3
   },
   "file_extension": ".py",
   "mimetype": "text/x-python",
   "name": "python",
   "nbconvert_exporter": "python",
   "pygments_lexer": "ipython3",
   "version": "3.9.5"
  },
  "orig_nbformat": 2,
  "kernelspec": {
   "name": "python3",
   "display_name": "Python 3.9.5 64-bit"
  },
  "metadata": {
   "interpreter": {
    "hash": "251e81559002ddd7b2bf032dcaac0eab8c07dc3f187a921f1aa359dc2a69befe"
   }
  },
  "interpreter": {
   "hash": "251e81559002ddd7b2bf032dcaac0eab8c07dc3f187a921f1aa359dc2a69befe"
  }
 },
 "nbformat": 4,
 "nbformat_minor": 2,
 "cells": [
  {
   "cell_type": "markdown",
   "source": [
    "<h1>Practical Tasks<h1>"
   ],
   "metadata": {}
  },
  {
   "cell_type": "markdown",
   "source": [
    "<h2>Common modules<h2>"
   ],
   "metadata": {}
  },
  {
   "cell_type": "code",
   "execution_count": 1,
   "source": [
    "import numpy as np"
   ],
   "outputs": [],
   "metadata": {}
  },
  {
   "cell_type": "markdown",
   "source": [
    "<h2>Task 1<h2>"
   ],
   "metadata": {}
  },
  {
   "cell_type": "code",
   "execution_count": 8,
   "source": [
    "salary_data = np.array([100, 80, 75, 77, 89, 33, 45, 25, 65, 17, 30, 24, 57, 55, 70, 75, 65, 84, 90, 150])\r\n",
    "mean_salary = np.sum(salary_data) / salary_data.size\r\n",
    "biased_variance = np.sum(np.power(np.subtract(salary_data,mean_salary),2)) / salary_data.size\r\n",
    "unbiased_variance = np.sum(np.power(np.subtract(salary_data,mean_salary),2)) / (salary_data.size - 1)\r\n",
    "biased_std = np.power(np.sum(np.power(np.subtract(salary_data,mean_salary),2)) / salary_data.size,0.5)\r\n",
    "unbiased_std = np.power(np.sum(np.power(np.subtract(salary_data,mean_salary),2)) / (salary_data.size - 1),0.5)\r\n",
    "print(f\"Mean salary: {np.mean(salary_data):.1f} (built-in function) or {mean_salary:.1f} (user_implementation)\")\r\n",
    "print(f\"Biased salary variance: {np.var(salary_data):.1f} (built-in function) or {biased_variance:.1f} (user_implementation)\")\r\n",
    "print(f\"Unbiased salary variance: {np.var(salary_data,ddof=1):.1f} (built-in function) or {unbiased_variance:.1f} (user_implementation)\")\r\n",
    "print(f\"Biased salary standard deviation: {np.std(salary_data):.1f} (built-in function) or {biased_std:.1f} (user_implementation)\")\r\n",
    "print(f\"Unbiased salary standard deviation: {np.std(salary_data,ddof=1):.1f} (built-in function) or {unbiased_std:.1f} (user_implementation)\")"
   ],
   "outputs": [
    {
     "output_type": "stream",
     "name": "stdout",
     "text": [
      "Mean salary: 65.3 (built-in function) or 65.3 (user_implementation)\n",
      "Biased salary variance: 950.1 (built-in function) or 950.1 (user_implementation)\n",
      "Unbiased salary variance: 1000.1 (built-in function) or 1000.1 (user_implementation)\n",
      "Biased salary standard deviation: 30.8 (built-in function) or 30.8 (user_implementation)\n",
      "Unbiased salary standard deviation: 31.6 (built-in function) or 31.6 (user_implementation)\n"
     ]
    }
   ],
   "metadata": {}
  },
  {
   "cell_type": "markdown",
   "source": [
    "<h2>Task 2<h2>"
   ],
   "metadata": {}
  },
  {
   "cell_type": "code",
   "execution_count": 14,
   "source": [
    "def find_outliers(data, Q1, Q3):\r\n",
    "    IQR = Q3 - Q1\r\n",
    "    return [i for i in list(data) if i < Q1 - 1.5*IQR or i > Q3 + 1.5*IQR]\r\n",
    "\r\n",
    "salary_Q1 = np.quantile(salary_data,0.25)\r\n",
    "salary_Q3 = np.quantile(salary_data,0.75)\r\n",
    "IQR = salary_Q3 - salary_Q1\r\n",
    "outliers = find_outliers(salary_data, salary_Q1, salary_Q3)\r\n",
    "print(f\"Q1: {salary_Q1:.1f}, Q3: {salary_Q3:.1f}, IQR: {IQR:.1f}, outliers: {''.join(str(e) for e in outliers)}\")\r\n"
   ],
   "outputs": [
    {
     "output_type": "stream",
     "name": "stdout",
     "text": [
      "Q1: 42.0, Q3: 81.0, IQR: 39.0, outliers: 150\n"
     ]
    }
   ],
   "metadata": {}
  },
  {
   "cell_type": "markdown",
   "source": [
    "<h2>Task 3<h2>"
   ],
   "metadata": {}
  },
  {
   "cell_type": "code",
   "execution_count": 17,
   "source": [
    "# A, B, C - departments. \r\n",
    "# p_A, p_B, p_C - probability of enrollment on department A, B or C correspondingly\r\n",
    "# p_X - probability of passing the session\r\n",
    "# p_XA, p_XB, p_XC - conditional probability that a student from department A, B or C passes the session \r\n",
    "# Find p_AX, p_BX, p_CX i.e. probability that the student who passed the session is studying at A, B or C department.\r\n",
    "p_A, p_B, p_C = 1/4, 1/4, 1/2\r\n",
    "p_XA, p_XB, p_XC = 0.8, 0.7, 0.9\r\n",
    "p_X = p_A*p_XA + p_B*p_XB + p_C*p_XC # total probability rule  \r\n",
    "# Bayes rule\r\n",
    "p_AX = p_A * p_XA / p_X\r\n",
    "p_BX = p_B * p_XB / p_X\r\n",
    "p_CX = p_C * p_XC / p_X\r\n",
    "print(f\"The student who passed the session is studying at A, B or C department with the probability of {p_AX:.2f}, {p_BX:.2f} or {p_CX:.2f} respectively\")"
   ],
   "outputs": [
    {
     "output_type": "stream",
     "name": "stdout",
     "text": [
      "The student who passed the session is studying at A, B or C department with the probability of 0.24, 0.21 or 0.55 respectively\n"
     ]
    }
   ],
   "metadata": {}
  }
 ]
}