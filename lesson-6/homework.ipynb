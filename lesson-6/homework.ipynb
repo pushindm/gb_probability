{
 "metadata": {
  "language_info": {
   "codemirror_mode": {
    "name": "ipython",
    "version": 3
   },
   "file_extension": ".py",
   "mimetype": "text/x-python",
   "name": "python",
   "nbconvert_exporter": "python",
   "pygments_lexer": "ipython3",
   "version": "3.9.5"
  },
  "orig_nbformat": 2,
  "kernelspec": {
   "name": "python3",
   "display_name": "Python 3.9.5 64-bit"
  },
  "metadata": {
   "interpreter": {
    "hash": "251e81559002ddd7b2bf032dcaac0eab8c07dc3f187a921f1aa359dc2a69befe"
   }
  },
  "interpreter": {
   "hash": "251e81559002ddd7b2bf032dcaac0eab8c07dc3f187a921f1aa359dc2a69befe"
  }
 },
 "nbformat": 4,
 "nbformat_minor": 2,
 "cells": [
  {
   "cell_type": "markdown",
   "source": [
    "<h1>Practical Tasks<h1>"
   ],
   "metadata": {}
  },
  {
   "cell_type": "markdown",
   "source": [
    "<h2>Common modules<h2>"
   ],
   "metadata": {}
  },
  {
   "cell_type": "code",
   "execution_count": 43,
   "source": [
    "import numpy as np\r\n",
    "from scipy import stats"
   ],
   "outputs": [],
   "metadata": {}
  },
  {
   "cell_type": "markdown",
   "source": [
    "<h2>Task 1<h2>"
   ],
   "metadata": {}
  },
  {
   "cell_type": "code",
   "execution_count": 44,
   "source": [
    "salary = np.array([35, 45, 190, 200, 40, 70, 54, 150, 120, 110])\r\n",
    "scoring = np.array([401, 574, 874, 919, 459, 739, 653, 902, 746, 832])\r\n",
    "\r\n",
    "# 1.\r\n",
    "salary_mean = salary.mean()\r\n",
    "scoring_mean = scoring.mean()\r\n",
    "cov_user = np.sum((salary - salary_mean)*(scoring - scoring_mean)) / (salary.shape[0] - 1)\r\n",
    "cov_built_in = np.cov(salary, scoring)\r\n",
    "print(f\"Covariance of salary and scoring: {cov_user:.3f} (user_value); {cov_built_in[0,1]:.3f} (built-in function)\")\r\n",
    "\r\n",
    "# 2.\r\n",
    "pearson_coeff_user = cov_user / (salary.std(ddof=1) * scoring.std(ddof=1))\r\n",
    "pearson_coeff_builtin = np.corrcoef(salary, scoring)\r\n",
    "print(f\"Person correlation coeff of salary and scoring: {pearson_coeff_user:.3f} (user_value); {pearson_coeff_builtin[0,1]:.3f} (built-in function)\")"
   ],
   "outputs": [
    {
     "output_type": "stream",
     "name": "stdout",
     "text": [
      "Covariance of salary and scoring: 10175.378 (user_value); 10175.378 (built-in function)\n",
      "Person correlation coeff of salary and scoring: 0.887 (user_value); 0.887 (built-in function)\n"
     ]
    }
   ],
   "metadata": {}
  },
  {
   "cell_type": "markdown",
   "source": [
    "<h2>Task 2<h2>"
   ],
   "metadata": {}
  },
  {
   "cell_type": "code",
   "execution_count": 47,
   "source": [
    "IQ_scores = np.array([131, 125, 115, 122, 131, 115, 107, 99, 125, 111])\r\n",
    "IQ_alpha = 0.05\r\n",
    "\r\n",
    "# variance is not known\r\n",
    "IQ_sample_mean = IQ_scores.mean()\r\n",
    "IQ_sample_std = IQ_scores.std(ddof=1)\r\n",
    "t1_IQ = stats.t.ppf(IQ_alpha/2, df=IQ_scores.shape[0] - 1)\r\n",
    "t2_IQ = stats.t.ppf(1 - IQ_alpha/2, df=IQ_scores.shape[0] - 1)\r\n",
    "\r\n",
    "# find left and right margin values\r\n",
    "IQ_left_margin = IQ_sample_mean + t1_IQ * IQ_sample_std / np.sqrt(IQ_scores.shape[0])\r\n",
    "IQ_right_margin = IQ_sample_mean + t2_IQ * IQ_sample_std / np.sqrt(IQ_scores.shape[0])\r\n",
    "\r\n",
    "print(f\"The mean value of IQ lies between {IQ_left_margin:.2f} and {IQ_right_margin:.2f} scores with {(1-IQ_alpha)*100:.0f}% probability\")"
   ],
   "outputs": [
    {
     "output_type": "stream",
     "name": "stdout",
     "text": [
      "The mean value of IQ lies between 110.56 and 125.64 scores with 95% probability\n"
     ]
    }
   ],
   "metadata": {}
  },
  {
   "cell_type": "markdown",
   "source": [
    "<h2>Task 3<h2>"
   ],
   "metadata": {}
  },
  {
   "cell_type": "code",
   "execution_count": 48,
   "source": [
    "alpha = 0.05\r\n",
    "N = 27\r\n",
    "variance_general = 25\r\n",
    "sample_mean = 174.2\r\n",
    "\r\n",
    "t1 = stats.norm.ppf(alpha/2)\r\n",
    "t2 = stats.norm.ppf(1 - alpha/2)\r\n",
    "\r\n",
    "L = sample_mean + t1 * np.sqrt(variance_general) / np.sqrt(N)\r\n",
    "U = sample_mean + t2 * np.sqrt(variance_general) / np.sqrt(N)\r\n",
    "print(f\"The confident interval for sample mean {sample_mean} with probability {(1-alpha)*100:.0f} %: {L:.2f} and {U:.2f}\")"
   ],
   "outputs": [
    {
     "output_type": "stream",
     "name": "stdout",
     "text": [
      "The confident interval for sample mean 174.2 with probability 95 %: 172.31 and 176.09\n"
     ]
    }
   ],
   "metadata": {}
  }
 ]
}